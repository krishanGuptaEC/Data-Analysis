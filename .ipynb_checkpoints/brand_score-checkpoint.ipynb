{
 "cells": [
  {
   "cell_type": "code",
   "execution_count": 1,
   "metadata": {},
   "outputs": [],
   "source": [
    "import pandas as pd\n",
    "import os\n",
    "import csv"
   ]
  },
  {
   "cell_type": "code",
   "execution_count": 2,
   "metadata": {},
   "outputs": [],
   "source": [
    "final=pd.DataFrame()\n",
    "files=[file for file in os.listdir('./Input')]\n",
    "for file in files:\n",
    "    data=pd.read_excel('./Input/'+file)\n",
    "    var_Data=[]\n",
    "    def getdate(data):\n",
    "        l=data.split(' ')[:3]\n",
    "        fi=\"\"\n",
    "        for i in l:\n",
    "            fi+=i+\" \"\n",
    "        return(fi)\n",
    "    data['Started Time']=data['Started Time'].apply(lambda x: getdate(x))\n",
    "    data['Started Time']=pd.to_datetime(data[\"Started Time\"],)\n",
    "    data['Started Time']=data['Started Time'].dt.strftime(\"%d/%m/%y\")\n",
    "    l=data['Started Time'].unique()\n",
    "    dates=[]\n",
    "    for i in l:\n",
    "        dates.append(i)\n",
    "        dates.append(i)\n",
    "        dates.append(i)\n",
    "        dates.append(i)\n",
    "    \n",
    "    dates=sorted(dates)\n",
    "    \n",
    "    g=['Mobile Premier League (MPL)','Adda52','Dream 11','Rummy Circle']\n",
    "    games=[]\n",
    "    for i in range(len(dates)//4):\n",
    "        games.append('Mobile Premier League (MPL)')\n",
    "        games.append('Adda52')\n",
    "        games.append('Dream 11')\n",
    "        games.append('Rummy Circle')\n",
    "        \n",
    "        \n",
    "        \n",
    "    games_selected=[1]*len(dates)\n",
    "    games_total=[]\n",
    "    for i in range(0,len(dates),4):\n",
    "        df=data[data['Started Time'] == dates[i]]\n",
    "        for j in df[' Which is the first brand that comes to your mind for online ​mobile gaming?']:\n",
    "            if(j=='Mobile Premier League (MPL)'):\n",
    "                games_selected[(i)+0]+=1\n",
    "            if(j=='Adda52'):\n",
    "                games_selected[(i)+1]+=1\n",
    "            if(j=='Dream 11'):\n",
    "                games_selected[(i)+2]+=1\n",
    "            if(j=='Rummy Circle'):\n",
    "                games_selected[(i)+3]+=1\n",
    "        games_total.append(games_selected[(i)+0]+games_selected[(i)+1]+games_selected[(i)+2]+games_selected[(i)+3])\n",
    "        games_total.append(games_selected[(i)+0]+games_selected[(i)+1]+games_selected[(i)+2]+games_selected[(i)+3])\n",
    "        games_total.append(games_selected[(i)+0]+games_selected[(i)+1]+games_selected[(i)+2]+games_selected[(i)+3])\n",
    "        games_total.append(games_selected[(i)+0]+games_selected[(i)+1]+games_selected[(i)+2]+games_selected[(i)+3])\n",
    "                \n",
    "                \n",
    "                \n",
    "                \n",
    "    aided_score=[0]*len(dates)\n",
    "    adided_total=[]\n",
    "    for i in range(0,len(dates),4):\n",
    "        df=data[data['Started Time']==dates[i]]\n",
    "        aided_score[i+0]=df[\" Which of the following brands have you heard of?3r - Option 1 \"].count()+1\n",
    "        aided_score[i+1]=df[\" Which of the following brands have you heard of?3r - Option 2 \"].count()+1\n",
    "        aided_score[i+2]=df[\" Which of the following brands have you heard of?3r - Option 3\"].count()+1\n",
    "        aided_score[i+3]=df[\" Which of the following brands have you heard of?3r - Option 4 \"].count()+1\n",
    "        adided_total.append(aided_score[i+0]+aided_score[i+1]+aided_score[i+2]+aided_score[i+3])\n",
    "        adided_total.append(aided_score[i+0]+aided_score[i+1]+aided_score[i+2]+aided_score[i+3])\n",
    "        adided_total.append(aided_score[i+0]+aided_score[i+1]+aided_score[i+2]+aided_score[i+3])\n",
    "        adided_total.append(aided_score[i+0]+aided_score[i+1]+aided_score[i+2]+aided_score[i+3])\n",
    "        \n",
    "        \n",
    "        \n",
    "    brand_considration=[0]*len(dates)\n",
    "    brand_total=[]\n",
    "    for i in range(0,len(dates),4):\n",
    "        df=data[data['Started Time']==dates[i]]\n",
    "        brand_considration[i+0]=df[' Which of these brands would you consider for ​skillbased mobile gaming tournaments​? - Mobile Premier League (MPL) '].count()+1\n",
    "        brand_considration[i+1]=df[' Which of these brands would you consider for ​skillbased mobile gaming tournaments​? - Adda52 '].count()+1\n",
    "        brand_considration[i+2]=df[' Which of these brands would you consider for ​skillbased mobile gaming tournaments​? - Dream 11 '].count()+1\n",
    "        brand_considration[i+3]=df[' Which of these brands would you consider for ​skillbased mobile gaming tournaments​? - Rummy Circle '].count()+1\n",
    "        brand_total.append(brand_considration[i+0]+brand_considration[i+1]+brand_considration[i+2]+brand_considration[i+3])\n",
    "        brand_total.append(brand_considration[i+0]+brand_considration[i+1]+brand_considration[i+2]+brand_considration[i+3])\n",
    "        brand_total.append(brand_considration[i+0]+brand_considration[i+1]+brand_considration[i+2]+brand_considration[i+3])\n",
    "        brand_total.append(brand_considration[i+0]+brand_considration[i+1]+brand_considration[i+2]+brand_considration[i+3])\n",
    "        \n",
    "    my_Data={\n",
    "        'start_date':dates,\n",
    "        'end_date':dates,\n",
    "        'Brands':games,\n",
    "        'Audience':[file.split('.')[0]]*len(dates),\n",
    "        'unaided_brand_awareness_score':games_selected,\n",
    "        'aided_brand_awareness_score':aided_score,\n",
    "        'brand_consideration':brand_considration,\n",
    "        'game_total':games_total,\n",
    "        'Aided_total':adided_total,\n",
    "       'brand_total':brand_total\n",
    "    }\n",
    "    score=pd.DataFrame(my_Data)\n",
    "    if(file.split('.')[0]=='overall'):\n",
    "        save=score\n",
    "    else:\n",
    "        final=pd.concat([final,score])\n",
    "final=pd.concat([final,save])\n",
    "final.to_csv('Final.csv')\n"
   ]
  },
  {
   "cell_type": "code",
   "execution_count": 3,
   "metadata": {},
   "outputs": [],
   "source": [
    "final['unaided_brand_awareness_score']=(final['unaided_brand_awareness_score']/final['game_total'])\n",
    "final['unaided_brand_awareness_score']=final['unaided_brand_awareness_score']*10"
   ]
  },
  {
   "cell_type": "code",
   "execution_count": 4,
   "metadata": {},
   "outputs": [],
   "source": [
    "final['aided_brand_awareness_score']=(final['aided_brand_awareness_score']/final['Aided_total'])\n",
    "final['aided_brand_awareness_score']=final['aided_brand_awareness_score']*10"
   ]
  },
  {
   "cell_type": "code",
   "execution_count": 5,
   "metadata": {},
   "outputs": [],
   "source": [
    "final['brand_consideration']=(final['brand_consideration']/final['brand_total'])\n",
    "final['brand_consideration']=final['brand_consideration']*10"
   ]
  },
  {
   "cell_type": "code",
   "execution_count": 6,
   "metadata": {},
   "outputs": [],
   "source": [
    "del final['game_total']\n",
    "del final['Aided_total']\n",
    "del final['brand_total']"
   ]
  },
  {
   "cell_type": "code",
   "execution_count": 7,
   "metadata": {},
   "outputs": [],
   "source": [
    "final[\"overall\"]=(final['unaided_brand_awareness_score']+final['aided_brand_awareness_score']+final['brand_consideration'])//3"
   ]
  },
  {
   "cell_type": "code",
   "execution_count": 8,
   "metadata": {},
   "outputs": [],
   "source": [
    "pd.options.display.float_format = \"{:,.2f}\".format"
   ]
  },
  {
   "cell_type": "code",
   "execution_count": 9,
   "metadata": {},
   "outputs": [],
   "source": [
    "final.to_csv('brand_score.csv',   float_format='%.1f',index=False)"
   ]
  },
  {
   "cell_type": "code",
   "execution_count": null,
   "metadata": {},
   "outputs": [],
   "source": []
  }
 ],
 "metadata": {
  "kernelspec": {
   "display_name": "Python 3",
   "language": "python",
   "name": "python3"
  },
  "language_info": {
   "codemirror_mode": {
    "name": "ipython",
    "version": 3
   },
   "file_extension": ".py",
   "mimetype": "text/x-python",
   "name": "python",
   "nbconvert_exporter": "python",
   "pygments_lexer": "ipython3",
   "version": "3.7.4"
  }
 },
 "nbformat": 4,
 "nbformat_minor": 2
}
