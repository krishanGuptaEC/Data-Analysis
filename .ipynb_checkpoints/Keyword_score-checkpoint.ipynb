{
 "cells": [
  {
   "cell_type": "code",
   "execution_count": 1,
   "metadata": {},
   "outputs": [],
   "source": [
    "import pandas as pd\n",
    "import os\n",
    "import csv"
   ]
  },
  {
   "cell_type": "code",
   "execution_count": 21,
   "metadata": {},
   "outputs": [],
   "source": [
    "final=pd.DataFrame()\n",
    "files=[file for file in os.listdir('./Input')]\n",
    "for file in files:\n",
    "    data=pd.read_excel('./Input/'+file)\n",
    "    var_Data=[]\n",
    "    def getdate(data):\n",
    "        l=data.split(' ')[:3]\n",
    "        fi=\"\"\n",
    "        for i in l:\n",
    "            fi+=i+\" \"\n",
    "        return(fi)\n",
    "    data['Started Time']=data['Started Time'].apply(lambda x: getdate(x))\n",
    "    data['Started Time']=pd.to_datetime(data[\"Started Time\"],)\n",
    "    data['Started Time']=data['Started Time'].dt.strftime(\"%d/%m/%y\")\n",
    "    l=data['Started Time'].unique()\n",
    "    dates=[]\n",
    "    for i in l:\n",
    "        dates.append(i)\n",
    "        dates.append(i)\n",
    "        dates.append(i)\n",
    "        dates.append(i)\n",
    "    \n",
    "    dates=sorted(dates)\n",
    "    \n",
    "    games=[]\n",
    "    for i in range(len(dates)//4):\n",
    "        games.append('Mobile Premier League (MPL)')\n",
    "        games.append('Adda52')\n",
    "        games.append('Dream 11')\n",
    "        games.append('Rummy Circle')\n",
    "        \n",
    "    keywords=[]\n",
    "    for i in range(0,len(dates),4):\n",
    "        keywords.append(\"Rewards\")\n",
    "        keywords.append(\"Engagement\")\n",
    "        keywords.append(\"Community based gaming\")\n",
    "        keywords.append(\"Tournament \")\n",
    "        \n",
    "        \n",
    "        \n",
    "    count=[0]*len(dates)\n",
    "    total_count=[]\n",
    "    for i in range(0,len(dates),4):\n",
    "        df=data[data['Started Time']==dates[i]]\n",
    "        count[i+0]=df[' What keeps you engaged with MPL? - Rewards '].count()+1\n",
    "        count[i+1]=df[' What keeps you engaged with MPL? - Engagement '].count()+1\n",
    "        count[i+2]=df[' What keeps you engaged with MPL? - Community based gaming '].count()+1\n",
    "        count[i+3]=df[' What keeps you engaged with MPL? - Tournament '].count()+1\n",
    "        total_count.append(count[i+0]+count[i+1]+count[i+2]+count[i+3])\n",
    "        total_count.append(count[i+0]+count[i+1]+count[i+2]+count[i+3])\n",
    "        total_count.append(count[i+0]+count[i+1]+count[i+2]+count[i+3])\n",
    "        total_count.append(count[i+0]+count[i+1]+count[i+2]+count[i+3])\n",
    "        \n",
    "        \n",
    "    my_Data={\n",
    "        'start_date':dates,\n",
    "        'end_date':dates,\n",
    "        'Brands':games,\n",
    "        'Audience':[file.split('.')[0]]*len(dates),\n",
    "        'Keywords':keywords,\n",
    "        'score':count,\n",
    "        'total':total_count\n",
    "    }\n",
    "    \n",
    "    \n",
    "    score=pd.DataFrame(my_Data)\n",
    "    if(file.split('.')[0]=='overall'):\n",
    "        save=score\n",
    "    else:\n",
    "        final=pd.concat([final,score])\n",
    "final=pd.concat([final,save])\n",
    "final.to_csv('Final.csv')"
   ]
  },
  {
   "cell_type": "code",
   "execution_count": 22,
   "metadata": {},
   "outputs": [],
   "source": [
    "final['score'] = (final['score']/final['total'])*10\n",
    "pd.options.display.float_format = \"{:,.2f}\".format\n",
    "del final['total']\n",
    "final.to_csv('Keyword_score.csv',float_format='%.1f',index=False)"
   ]
  },
  {
   "cell_type": "code",
   "execution_count": null,
   "metadata": {},
   "outputs": [],
   "source": []
  }
 ],
 "metadata": {
  "kernelspec": {
   "display_name": "Python 3",
   "language": "python",
   "name": "python3"
  },
  "language_info": {
   "codemirror_mode": {
    "name": "ipython",
    "version": 3
   },
   "file_extension": ".py",
   "mimetype": "text/x-python",
   "name": "python",
   "nbconvert_exporter": "python",
   "pygments_lexer": "ipython3",
   "version": "3.7.4"
  }
 },
 "nbformat": 4,
 "nbformat_minor": 2
}
